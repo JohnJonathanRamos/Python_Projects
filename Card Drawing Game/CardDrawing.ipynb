{
 "cells": [
  {
   "cell_type": "code",
   "execution_count": 13,
   "id": "5074bafe-1313-453a-af07-804cf147935a",
   "metadata": {},
   "outputs": [
    {
     "name": "stdout",
     "output_type": "stream",
     "text": [
      "Draw a card:\n",
      "Ace of Clubs\n",
      "\n",
      "Draw another card:\n",
      "Jack of Clubs\n"
     ]
    }
   ],
   "source": [
    "class Card:\n",
    "    def __init__(self, suit, rank):\n",
    "        self.suit = suit \n",
    "        self.rank = rank\n",
    "\n",
    "    def __str__(self):\n",
    "        return f\"{self.rank} of {self.suit}\"\n",
    "\n",
    "class Deck:\n",
    "    def __init__(self):\n",
    "        suits = [\"Diamonds\", \"Hearts\", \"Spades\", \"Clubs\"]\n",
    "        ranks = [\"King\", \"Queen\", \"Jack\", \"Ace\"] \n",
    "\n",
    "        self.cards = [Card(suit, rank) for suit in suits for rank in ranks]\n",
    "\n",
    "    def draw_one_card(self):\n",
    "        return self.cards.pop()\n",
    "\n",
    "if __name__ == \"__main__\":\n",
    "    deck = Deck()\n",
    "\n",
    "    print(\"Draw a card:\")\n",
    "    first_card = deck.draw_one_card()\n",
    "    print(first_card)\n",
    "\n",
    "    print(\"\\nDraw another card:\")\n",
    "    second_card = deck.draw_one_card()\n",
    "    print(second_card) "
   ]
  },
  {
   "cell_type": "code",
   "execution_count": null,
   "id": "f08fd8dc-d168-47e8-9086-b451227c808c",
   "metadata": {},
   "outputs": [],
   "source": []
  }
 ],
 "metadata": {
  "kernelspec": {
   "display_name": "Python [conda env:base] *",
   "language": "python",
   "name": "conda-base-py"
  },
  "language_info": {
   "codemirror_mode": {
    "name": "ipython",
    "version": 3
   },
   "file_extension": ".py",
   "mimetype": "text/x-python",
   "name": "python",
   "nbconvert_exporter": "python",
   "pygments_lexer": "ipython3",
   "version": "3.12.3"
  }
 },
 "nbformat": 4,
 "nbformat_minor": 5
}
